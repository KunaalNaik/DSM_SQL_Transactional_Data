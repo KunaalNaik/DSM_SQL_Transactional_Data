{
 "cells": [
  {
   "cell_type": "markdown",
   "id": "76a7a98c-3ffd-4bc1-8c33-13af81c58207",
   "metadata": {},
   "source": [
    "# import packages"
   ]
  },
  {
   "cell_type": "code",
   "execution_count": 20,
   "id": "5c197f7d-cc90-4a3f-b4a2-1f1ba30a00a8",
   "metadata": {},
   "outputs": [],
   "source": [
    "import pandas as pd"
   ]
  },
  {
   "cell_type": "markdown",
   "id": "ebb2539c-82e7-4efa-bb71-082993bbcb1b",
   "metadata": {},
   "source": [
    "# import data"
   ]
  },
  {
   "cell_type": "code",
   "execution_count": 21,
   "id": "3bc0efad-4365-459b-ba4b-6600c19ff8a2",
   "metadata": {},
   "outputs": [],
   "source": [
    "# Import the df_products table\n",
    "df_products = pd.read_csv('../../1_input/products.csv')\n",
    "\n",
    "# Import the df_orderdetails table\n",
    "df_orderdetails = pd.read_csv('../../1_input/orderdetails.csv')\n",
    "\n",
    "# Import the df_orders table\n",
    "df_orders = pd.read_csv('../../1_input/orders.csv')"
   ]
  },
  {
   "cell_type": "markdown",
   "id": "e772a586-9d19-4128-986a-ff6187ea79f1",
   "metadata": {},
   "source": [
    "# check data"
   ]
  },
  {
   "cell_type": "code",
   "execution_count": 22,
   "id": "0d8cd649-b9e3-4412-bff8-5cc96fac1c4d",
   "metadata": {},
   "outputs": [
    {
     "name": "stdout",
     "output_type": "stream",
     "text": [
      "<class 'pandas.core.frame.DataFrame'>\n",
      "RangeIndex: 110 entries, 0 to 109\n",
      "Data columns (total 9 columns):\n",
      " #   Column              Non-Null Count  Dtype  \n",
      "---  ------              --------------  -----  \n",
      " 0   productCode         110 non-null    object \n",
      " 1   productName         110 non-null    object \n",
      " 2   productLine         110 non-null    object \n",
      " 3   productScale        110 non-null    object \n",
      " 4   productVendor       110 non-null    object \n",
      " 5   productDescription  110 non-null    object \n",
      " 6   quantityInStock     110 non-null    int64  \n",
      " 7   buyPrice            110 non-null    float64\n",
      " 8   MSRP                110 non-null    float64\n",
      "dtypes: float64(2), int64(1), object(6)\n",
      "memory usage: 7.9+ KB\n"
     ]
    }
   ],
   "source": [
    "df_products.info()"
   ]
  },
  {
   "cell_type": "code",
   "execution_count": 23,
   "id": "27d13fa6-6ca9-4667-99a4-19d623583375",
   "metadata": {},
   "outputs": [
    {
     "name": "stdout",
     "output_type": "stream",
     "text": [
      "<class 'pandas.core.frame.DataFrame'>\n",
      "RangeIndex: 1000 entries, 0 to 999\n",
      "Data columns (total 5 columns):\n",
      " #   Column           Non-Null Count  Dtype  \n",
      "---  ------           --------------  -----  \n",
      " 0   orderNumber      1000 non-null   int64  \n",
      " 1   productCode      1000 non-null   object \n",
      " 2   quantityOrdered  1000 non-null   int64  \n",
      " 3   priceEach        1000 non-null   float64\n",
      " 4   orderLineNumber  1000 non-null   int64  \n",
      "dtypes: float64(1), int64(3), object(1)\n",
      "memory usage: 39.2+ KB\n"
     ]
    }
   ],
   "source": [
    "df_orderdetails.info()"
   ]
  },
  {
   "cell_type": "code",
   "execution_count": 24,
   "id": "d8bca03c-56ee-4f61-a712-3838a09efd3a",
   "metadata": {},
   "outputs": [
    {
     "name": "stdout",
     "output_type": "stream",
     "text": [
      "<class 'pandas.core.frame.DataFrame'>\n",
      "RangeIndex: 326 entries, 0 to 325\n",
      "Data columns (total 7 columns):\n",
      " #   Column          Non-Null Count  Dtype \n",
      "---  ------          --------------  ----- \n",
      " 0   orderNumber     326 non-null    int64 \n",
      " 1   orderDate       326 non-null    object\n",
      " 2   requiredDate    326 non-null    object\n",
      " 3   shippedDate     312 non-null    object\n",
      " 4   status          326 non-null    object\n",
      " 5   comments        80 non-null     object\n",
      " 6   customerNumber  326 non-null    int64 \n",
      "dtypes: int64(2), object(5)\n",
      "memory usage: 18.0+ KB\n"
     ]
    }
   ],
   "source": [
    "df_orders.info()"
   ]
  },
  {
   "cell_type": "markdown",
   "id": "0786229b-9870-4762-9105-ec984ae1b80f",
   "metadata": {},
   "source": [
    "# Process Order Date"
   ]
  },
  {
   "cell_type": "code",
   "execution_count": 25,
   "id": "395565e6-fa91-4a41-ad19-f172c8bad630",
   "metadata": {},
   "outputs": [],
   "source": [
    "def add_order_date_columns(df_orders):\n",
    "    # Convert 'shippedDate' column to datetime format\n",
    "    df_orders['orderDate'] = pd.to_datetime(df_orders['orderDate'])\n",
    "    \n",
    "    # Extract year, month, and quarter from 'shippedDate'\n",
    "    df_orders['order_year'] = df_orders['orderDate'].dt.year\n",
    "    df_orders['order_month'] = df_orders['orderDate'].dt.month\n",
    "    df_orders['order_qtr'] = df_orders['orderDate'].dt.to_period('Q')\n",
    "    \n",
    "    # Create 'order_year_month' column\n",
    "    df_orders['order_year_month'] = df_orders['orderDate'].dt.to_period('M')\n",
    "    \n",
    "    # Create 'order_year_qtr' column\n",
    "    df_orders['order_year_qtr'] = df_orders['orderDate'].dt.to_period('Q')\n",
    "\n",
    "    return df_orders"
   ]
  },
  {
   "cell_type": "code",
   "execution_count": 26,
   "id": "9387d68f-e708-4296-a15e-9561a906e3b7",
   "metadata": {},
   "outputs": [],
   "source": [
    "# Execute:\n",
    "df_orders = add_order_date_columns(df_orders)"
   ]
  },
  {
   "cell_type": "markdown",
   "id": "7b5b5991-54e0-46c7-983c-0cee1e0c9d68",
   "metadata": {},
   "source": [
    "# Join Orders with Orderdetails"
   ]
  },
  {
   "cell_type": "code",
   "execution_count": 27,
   "id": "f84e3a4c-3cf8-48f7-a9b5-54bb9608d106",
   "metadata": {},
   "outputs": [],
   "source": [
    "# Join df_orderdetails with df_orders on 'orderNumber'\n",
    "def join_order_details(df_orderdetails, df_orders):\n",
    "    # Add order date columns to df_orders\n",
    "    df_orders = add_order_date_columns(df_orders)\n",
    "    \n",
    "    # Merge df_orderdetails with df_orders on 'orderNumber'\n",
    "    df_combined = pd.merge(df_orderdetails, df_orders, on='orderNumber')\n",
    "    \n",
    "    return df_combined"
   ]
  },
  {
   "cell_type": "code",
   "execution_count": 28,
   "id": "c4c38629-ff12-4116-a57d-7e25ef95e2c9",
   "metadata": {},
   "outputs": [],
   "source": [
    "df_combined = join_order_details(df_orderdetails, df_orders)"
   ]
  },
  {
   "cell_type": "markdown",
   "id": "7c4fd1d7-6b6b-4563-9de2-a91cf3c5f789",
   "metadata": {},
   "source": [
    "# Create Summary"
   ]
  },
  {
   "cell_type": "code",
   "execution_count": 29,
   "id": "60681e05-a869-4963-b493-cddc176f7a79",
   "metadata": {},
   "outputs": [
    {
     "name": "stdout",
     "output_type": "stream",
     "text": [
      "order_year_qtr\n",
      "2003Q1     405613.55\n",
      "2003Q2     515754.91\n",
      "2003Q3     616895.32\n",
      "2003Q4    1598482.93\n",
      "Freq: Q-DEC, Name: revenue, dtype: float64\n"
     ]
    }
   ],
   "source": [
    "# Calculate revenue for each order\n",
    "df_combined['revenue'] = df_combined['quantityOrdered'] * df_combined['priceEach']\n",
    "\n",
    "# Group by year quarter and sum the revenue\n",
    "revenue_by_year_qtr = df_combined.groupby('order_year_qtr')['revenue'].sum()\n",
    "\n",
    "# Print the result\n",
    "print(revenue_by_year_qtr)"
   ]
  },
  {
   "cell_type": "code",
   "execution_count": 30,
   "id": "0d5558ab-ae01-4617-b0f5-f2ed1ab63f86",
   "metadata": {},
   "outputs": [
    {
     "name": "stdout",
     "output_type": "stream",
     "text": [
      "order_year_month\n",
      "2003-01    116692.77\n",
      "2003-02    128403.64\n",
      "2003-03    160517.14\n",
      "2003-04    185848.59\n",
      "2003-05    179435.55\n",
      "2003-06    150470.77\n",
      "2003-07    201940.36\n",
      "2003-08    178257.11\n",
      "2003-09    236697.85\n",
      "2003-10    429527.28\n",
      "2003-11    988025.15\n",
      "2003-12    180930.50\n",
      "Freq: M, Name: revenue, dtype: float64\n"
     ]
    }
   ],
   "source": [
    "# Group by year quarter and sum the revenue\n",
    "revenue_by_year_month = df_combined.groupby('order_year_month')['revenue'].sum()\n",
    "\n",
    "# Print the result\n",
    "print(revenue_by_year_month)"
   ]
  },
  {
   "cell_type": "markdown",
   "id": "5d40faa5-341e-47c2-8434-0549d5d6f844",
   "metadata": {},
   "source": [
    "# Forecast"
   ]
  },
  {
   "cell_type": "code",
   "execution_count": 34,
   "id": "b7156a03-5eb4-4381-821d-8a0ecc7b381f",
   "metadata": {},
   "outputs": [
    {
     "name": "stdout",
     "output_type": "stream",
     "text": [
      "Forecast for next 3 months:\n",
      "2003-12-31    180930.5\n",
      "2004-01-31    180930.5\n",
      "2004-02-29    180930.5\n",
      "Freq: M, dtype: float64\n"
     ]
    }
   ],
   "source": [
    "# Get the last observed value\n",
    "last_observed_value = revenue_by_year_month.iloc[-1]\n",
    "\n",
    "# Generate forecast for the next 3 months by repeating the last observed value\n",
    "forecast_index = pd.date_range(start=revenue_by_year_month.index[-1].to_timestamp(), periods=3, freq='M')\n",
    "forecast = pd.Series(last_observed_value, index=forecast_index)\n",
    "\n",
    "# Print the forecast\n",
    "print(\"Forecast for next 3 months:\")\n",
    "print(forecast)"
   ]
  },
  {
   "cell_type": "markdown",
   "id": "11645b42-8a25-435f-ab38-4bbe3d20f766",
   "metadata": {},
   "source": [
    "# Regression"
   ]
  },
  {
   "cell_type": "code",
   "execution_count": null,
   "id": "1630aed1-59fd-4eee-bf35-63bcb876a2e4",
   "metadata": {},
   "outputs": [],
   "source": []
  }
 ],
 "metadata": {
  "kernelspec": {
   "display_name": "Python 3 (ipykernel)",
   "language": "python",
   "name": "python3"
  },
  "language_info": {
   "codemirror_mode": {
    "name": "ipython",
    "version": 3
   },
   "file_extension": ".py",
   "mimetype": "text/x-python",
   "name": "python",
   "nbconvert_exporter": "python",
   "pygments_lexer": "ipython3",
   "version": "3.10.13"
  }
 },
 "nbformat": 4,
 "nbformat_minor": 5
}
